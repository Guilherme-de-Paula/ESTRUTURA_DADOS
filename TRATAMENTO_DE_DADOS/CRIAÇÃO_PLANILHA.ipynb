{
 "cells": [
  {
   "cell_type": "code",
   "execution_count": 12,
   "metadata": {},
   "outputs": [],
   "source": [
    "import pandas as pd\n",
    "import numpy as np\n",
    "\n",
    "# CRIAR UM DATAFRAME COM ALGUNS DADOS FALTANDO\n",
    "data = {\n",
    "    \"Nome\": [\"Paula\", \"Kimberly\", \"Ana\", \"Carlos\", \"Guilherme\"],\n",
    "    \"Idade\": [19, np.nan, 19, 20, np.nan],\n",
    "    \"Cidade\": [\"São Paulo\", \"Rio de Janeiro\", np.nan, \"Salvador\", \"Porto Alegre\"],\n",
    "    \"Salário\": [3500, 4500, np.nan, 5000, 4800]\n",
    "}\n",
    "\n",
    "df = pd.DataFrame(data)\n",
    "\n",
    "arquivo = \"dados_ausentes.xlsx\"\n",
    "df.to_excel(arquivo, index=False)"
   ]
  }
 ],
 "metadata": {
  "kernelspec": {
   "display_name": "Python 3",
   "language": "python",
   "name": "python3"
  },
  "language_info": {
   "codemirror_mode": {
    "name": "ipython",
    "version": 3
   },
   "file_extension": ".py",
   "mimetype": "text/x-python",
   "name": "python",
   "nbconvert_exporter": "python",
   "pygments_lexer": "ipython3",
   "version": "3.12.1"
  }
 },
 "nbformat": 4,
 "nbformat_minor": 2
}

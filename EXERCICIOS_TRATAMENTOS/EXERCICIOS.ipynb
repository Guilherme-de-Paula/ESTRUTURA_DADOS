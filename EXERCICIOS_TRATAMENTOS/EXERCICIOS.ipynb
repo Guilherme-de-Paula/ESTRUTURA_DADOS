{
 "cells": [
  {
   "cell_type": "code",
   "execution_count": 2,
   "metadata": {},
   "outputs": [],
   "source": [
    "# 1. Exercício: Carregar um arquivo e exibir as primeiras 5 linhas.\n",
    "\n",
    "import pandas as pd\n",
    "import numpy as np\n",
    "\n",
    "data = {\n",
    "    \"Nome\": [\"João\", \"Maria\", \"José\", \"Ana\", \"Pedro\", \"Ana\", \"Jessica\", \"Carlos\"],\n",
    "    \"Idade\": [28, np.nan, 35, 22, np.nan, 22, 20, 35],\n",
    "    \"Cidade\": [\"São Paulo\", \"Rio de Janeiro\", np.nan, \"Salvador\", \"Porto Alegre\", \"Salvador\", \"são paulo\", \"porto alegre\"],\n",
    "    \"Salário\": [3500, 4500, np.nan, 5000, 4800, 5000, 3410, 2500]\n",
    "}\n",
    "\n",
    "df = pd.DataFrame(data)\n",
    "\n",
    "arquivo = \"dados_faltantes.xlsx\"\n",
    "df.to_excel(arquivo, index=False)\n",
    "\n",
    "\n",
    "\n",
    "\n"
   ]
  },
  {
   "cell_type": "code",
   "execution_count": 5,
   "metadata": {},
   "outputs": [
    {
     "name": "stdout",
     "output_type": "stream",
     "text": [
      "    Nome  Idade  Cidade  Salário\n",
      "0  False  False   False    False\n",
      "1  False   True   False    False\n",
      "2  False  False    True     True\n",
      "3  False  False   False    False\n",
      "4  False   True   False    False\n",
      "5  False  False   False    False\n",
      "6  False  False   False    False\n",
      "7  False  False   False    False\n"
     ]
    }
   ],
   "source": [
    "# 2. Exercício: Verificar se há valores NaN nas colunas do DataFrame.\n",
    "print(df.isnull())"
   ]
  },
  {
   "cell_type": "code",
   "execution_count": 6,
   "metadata": {},
   "outputs": [
    {
     "name": "stdout",
     "output_type": "stream",
     "text": [
      "      Nome  Idade          Cidade  Salário\n",
      "0     João   28.0       São Paulo   3500.0\n",
      "1    Maria    NaN  Rio de Janeiro   4500.0\n",
      "2     José   35.0             NaN      0.0\n",
      "3      Ana   22.0        Salvador   5000.0\n",
      "4    Pedro    NaN    Porto Alegre   4800.0\n",
      "5      Ana   22.0        Salvador   5000.0\n",
      "6  Jessica   20.0       são paulo   3410.0\n",
      "7   Carlos   35.0    porto alegre   2500.0\n"
     ]
    },
    {
     "name": "stderr",
     "output_type": "stream",
     "text": [
      "C:\\Users\\50290149851\\AppData\\Local\\Temp\\ipykernel_1640\\2917652879.py:2: FutureWarning: A value is trying to be set on a copy of a DataFrame or Series through chained assignment using an inplace method.\n",
      "The behavior will change in pandas 3.0. This inplace method will never work because the intermediate object on which we are setting values always behaves as a copy.\n",
      "\n",
      "For example, when doing 'df[col].method(value, inplace=True)', try using 'df.method({col: value}, inplace=True)' or df[col] = df[col].method(value) instead, to perform the operation inplace on the original object.\n",
      "\n",
      "\n",
      "  df[\"Salário\"].fillna(0, inplace = True)\n"
     ]
    }
   ],
   "source": [
    "# 3. Exercício: Substituir os valores NaN de uma coluna por 0.\n",
    "df[\"Salário\"].fillna(0, inplace = True)\n",
    "print(df)"
   ]
  },
  {
   "cell_type": "code",
   "execution_count": 7,
   "metadata": {},
   "outputs": [
    {
     "name": "stdout",
     "output_type": "stream",
     "text": [
      "      Nome  Idade          Cidade  Salário\n",
      "0     João   28.0       São Paulo   3500.0\n",
      "1    Maria   27.0  Rio de Janeiro   4500.0\n",
      "2     José   35.0             NaN      0.0\n",
      "3      Ana   22.0        Salvador   5000.0\n",
      "4    Pedro   27.0    Porto Alegre   4800.0\n",
      "5      Ana   22.0        Salvador   5000.0\n",
      "6  Jessica   20.0       são paulo   3410.0\n",
      "7   Carlos   35.0    porto alegre   2500.0\n"
     ]
    },
    {
     "name": "stderr",
     "output_type": "stream",
     "text": [
      "C:\\Users\\50290149851\\AppData\\Local\\Temp\\ipykernel_1640\\385694946.py:3: FutureWarning: A value is trying to be set on a copy of a DataFrame or Series through chained assignment using an inplace method.\n",
      "The behavior will change in pandas 3.0. This inplace method will never work because the intermediate object on which we are setting values always behaves as a copy.\n",
      "\n",
      "For example, when doing 'df[col].method(value, inplace=True)', try using 'df.method({col: value}, inplace=True)' or df[col] = df[col].method(value) instead, to perform the operation inplace on the original object.\n",
      "\n",
      "\n",
      "  df[\"Idade\"].fillna(df[\"Idade\"].mean(), inplace = True)\n"
     ]
    }
   ],
   "source": [
    "# 4. Exercício: Substituir os valores NaN de uma coluna por um valor específico\n",
    "# (por exemplo, a média).\n",
    "df[\"Idade\"].fillna(df[\"Idade\"].mean(), inplace = True)\n",
    "print(df)"
   ]
  },
  {
   "cell_type": "code",
   "execution_count": 8,
   "metadata": {},
   "outputs": [
    {
     "name": "stdout",
     "output_type": "stream",
     "text": [
      "      Nome  Idade          Cidade  Salário\n",
      "0     João   28.0       São Paulo   3500.0\n",
      "1    Maria   27.0  Rio de Janeiro   4500.0\n",
      "3      Ana   22.0        Salvador   5000.0\n",
      "4    Pedro   27.0    Porto Alegre   4800.0\n",
      "5      Ana   22.0        Salvador   5000.0\n",
      "6  Jessica   20.0       são paulo   3410.0\n",
      "7   Carlos   35.0    porto alegre   2500.0\n"
     ]
    }
   ],
   "source": [
    "# 5. Exercício: Remover todas as linhas que contêm valores NaN em qualquer\n",
    "# coluna\n",
    "df_sem_nulos = df.dropna()\n",
    "print(df_sem_nulos)"
   ]
  },
  {
   "cell_type": "code",
   "execution_count": 4,
   "metadata": {},
   "outputs": [
    {
     "name": "stdout",
     "output_type": "stream",
     "text": [
      "      Nome  Idade        Cidade  Salário\n",
      "0     João   28.0     São Paulo   3500.0\n",
      "3      Ana   22.0      Salvador   5000.0\n",
      "5      Ana   22.0      Salvador   5000.0\n",
      "6  Jessica   20.0     são paulo   3410.0\n",
      "7   Carlos   35.0  porto alegre   2500.0\n"
     ]
    }
   ],
   "source": [
    "# 6. Exercício: Remover todas as linhas que contêm valores NaN em uma\n",
    "#coluna específica.\n",
    "df_sem_nulos = df.dropna()\n",
    "print(df_sem_nulos)\n"
   ]
  }
 ],
 "metadata": {
  "kernelspec": {
   "display_name": "Python 3",
   "language": "python",
   "name": "python3"
  },
  "language_info": {
   "codemirror_mode": {
    "name": "ipython",
    "version": 3
   },
   "file_extension": ".py",
   "mimetype": "text/x-python",
   "name": "python",
   "nbconvert_exporter": "python",
   "pygments_lexer": "ipython3",
   "version": "3.12.1"
  }
 },
 "nbformat": 4,
 "nbformat_minor": 2
}

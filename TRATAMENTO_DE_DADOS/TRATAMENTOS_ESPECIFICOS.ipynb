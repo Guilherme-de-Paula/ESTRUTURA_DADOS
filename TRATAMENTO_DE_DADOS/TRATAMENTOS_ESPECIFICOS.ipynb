{
 "cells": [
  {
   "cell_type": "code",
   "execution_count": 1,
   "metadata": {},
   "outputs": [
    {
     "name": "stdout",
     "output_type": "stream",
     "text": [
      "        Nome  Idade          Cidade  Salário\n",
      "0      Paula   19.0       São Paulo   3500.0\n",
      "1   Kimberly    NaN  Rio de Janeiro   4500.0\n",
      "2        Ana   19.0             NaN      NaN\n",
      "3     Carlos   20.0        Salvador   5000.0\n",
      "4  Guilherme    NaN    Porto Alegre   4800.0\n",
      "5       Caio   20.0       são paulo   3400.0\n",
      "6      lucas   15.0        Salvador   1000.0\n"
     ]
    }
   ],
   "source": [
    "import pandas as pd\n",
    "\n",
    "df = pd.read_excel(\"dados_ausentes.xlsx\")\n",
    "print(df)"
   ]
  },
  {
   "cell_type": "code",
   "execution_count": 2,
   "metadata": {},
   "outputs": [
    {
     "name": "stdout",
     "output_type": "stream",
     "text": [
      "        Nome  Idade          Cidade  Salário\n",
      "0      Paula   19.0       São Paulo   3500.0\n",
      "1   Kimberly    NaN  Rio De Janeiro   4500.0\n",
      "2        Ana   19.0             NaN      NaN\n",
      "3     Carlos   20.0        Salvador   5000.0\n",
      "4  Guilherme    NaN    Porto Alegre   4800.0\n",
      "5       Caio   20.0       São Paulo   3400.0\n",
      "6      Lucas   15.0        Salvador   1000.0\n"
     ]
    }
   ],
   "source": [
    "# Corrigir erros de formatação (maiuscula, minuscula)\n",
    "\n",
    "df[\"Nome\"] = df[\"Nome\"].str.capitalize()    \n",
    "df[\"Cidade\"] = df[\"Cidade\"].str.title()\n",
    "print(df)"
   ]
  },
  {
   "cell_type": "code",
   "execution_count": 3,
   "metadata": {},
   "outputs": [
    {
     "name": "stdout",
     "output_type": "stream",
     "text": [
      "        Nome  Idade        Cidade  Salário\n",
      "0      Paula   19.0            SP   3500.0\n",
      "1   Kimberly    NaN            RJ   4500.0\n",
      "2        Ana   19.0           NaN      NaN\n",
      "3     Carlos   20.0      salvador   5000.0\n",
      "4  Guilherme    NaN  porto alegre   4800.0\n",
      "5       Caio   20.0            SP   3400.0\n",
      "6      Lucas   15.0      salvador   1000.0\n"
     ]
    }
   ],
   "source": [
    "# Substituição de valores categoricos: sao paulo, sp, rj\n",
    "\n",
    "df[\"Cidade\"] = df[\"Cidade\"].str.lower().replace({\"são paulo\": \"SP\", \"rio de janeiro\": \"RJ\", \"rj\": \"RJ\"})\n",
    "print(df)"
   ]
  },
  {
   "cell_type": "code",
   "execution_count": 4,
   "metadata": {},
   "outputs": [
    {
     "name": "stdout",
     "output_type": "stream",
     "text": [
      "['Nome', 'Cidade']\n"
     ]
    }
   ],
   "source": [
    "# Identificar os tipos de dados das colunas de texto\n",
    "\n",
    "coluna_string = df.select_dtypes(include = [\"string\", \"object\"]).columns.to_list()\n",
    "print(coluna_string)"
   ]
  },
  {
   "cell_type": "code",
   "execution_count": 5,
   "metadata": {},
   "outputs": [
    {
     "name": "stdout",
     "output_type": "stream",
     "text": [
      "['Idade', 'Salário']\n"
     ]
    }
   ],
   "source": [
    "# Identificar os tipos de dados das colunas de float\n",
    "\n",
    "coluna_float = df.select_dtypes(include = [\"float\"]).columns.to_list()\n",
    "print(coluna_float)"
   ]
  },
  {
   "cell_type": "code",
   "execution_count": 6,
   "metadata": {},
   "outputs": [
    {
     "name": "stdout",
     "output_type": "stream",
     "text": [
      "        Nome  Idade        Cidade  Salário\n",
      "0      Paula   19.0            SP   3500.0\n",
      "1   Kimberly   18.6            RJ   4500.0\n",
      "2        Ana   19.0           NaN      NaN\n",
      "3     Carlos   20.0      salvador   5000.0\n",
      "4  Guilherme   18.6  porto alegre   4800.0\n",
      "5       Caio   20.0            SP   3400.0\n",
      "6      Lucas   15.0      salvador   1000.0\n"
     ]
    },
    {
     "name": "stderr",
     "output_type": "stream",
     "text": [
      "C:\\Users\\50290149851\\AppData\\Local\\Temp\\ipykernel_3848\\3201374673.py:3: FutureWarning: A value is trying to be set on a copy of a DataFrame or Series through chained assignment using an inplace method.\n",
      "The behavior will change in pandas 3.0. This inplace method will never work because the intermediate object on which we are setting values always behaves as a copy.\n",
      "\n",
      "For example, when doing 'df[col].method(value, inplace=True)', try using 'df.method({col: value}, inplace=True)' or df[col] = df[col].method(value) instead, to perform the operation inplace on the original object.\n",
      "\n",
      "\n",
      "  df[\"Idade\"].fillna(df[\"Idade\"].mean(), inplace = True)\n"
     ]
    }
   ],
   "source": [
    "# Substituir idades ausentes pela média\n",
    "\n",
    "df[\"Idade\"].fillna(df[\"Idade\"].mean(), inplace = True)\n",
    "print(df)"
   ]
  },
  {
   "cell_type": "code",
   "execution_count": 7,
   "metadata": {},
   "outputs": [
    {
     "name": "stdout",
     "output_type": "stream",
     "text": [
      "        Nome  Idade        Cidade  Salário\n",
      "0      Paula     19            SP   3500.0\n",
      "1   Kimberly     18            RJ   4500.0\n",
      "2        Ana     19           NaN      NaN\n",
      "3     Carlos     20      salvador   5000.0\n",
      "4  Guilherme     18  porto alegre   4800.0\n",
      "5       Caio     20            SP   3400.0\n",
      "6      Lucas     15      salvador   1000.0\n"
     ]
    }
   ],
   "source": [
    "# Converter os dados para int\n",
    "\n",
    "df[\"Idade\"] = df[\"Idade\"].astype(int)\n",
    "print(df)"
   ]
  },
  {
   "cell_type": "code",
   "execution_count": 8,
   "metadata": {},
   "outputs": [],
   "source": [
    "# Pega o valor de cima\n",
    "\n",
    "df[\"Idade\"] = df[\"Idade\"].ffill()\n",
    "\n",
    "# Pega o valor debaixo \n",
    "\n",
    "df[\"Idade\"] = df[\"Idade\"].bfill()"
   ]
  },
  {
   "cell_type": "code",
   "execution_count": 9,
   "metadata": {},
   "outputs": [
    {
     "name": "stdout",
     "output_type": "stream",
     "text": [
      "        Nome  Idade        Cidade  Salário Faixa Etária\n",
      "0      Paula     19            SP   3500.0       Adulto\n",
      "1   Kimberly     18            RJ   4500.0        Jovem\n",
      "2        Ana     19           NaN      NaN       Adulto\n",
      "3     Carlos     20      salvador   5000.0       Adulto\n",
      "4  Guilherme     18  porto alegre   4800.0        Jovem\n",
      "5       Caio     20            SP   3400.0       Adulto\n",
      "6      Lucas     15      salvador   1000.0        Jovem\n"
     ]
    }
   ],
   "source": [
    "# Criar uma nova coluna: Faixa Etária\n",
    "\n",
    "df[\"Faixa Etária\"] = pd.cut(df[\"Idade\"], bins = [0, 18, 30, 50, 100], labels = [\"Jovem\", \"Adulto\", \"Meia-Idade\", \"Idoso\"])\n",
    "print(df)"
   ]
  },
  {
   "cell_type": "code",
   "execution_count": 10,
   "metadata": {},
   "outputs": [
    {
     "name": "stdout",
     "output_type": "stream",
     "text": [
      "        Nome  Idade        Cidade  Salário Faixa Etária\n",
      "0      Paula     19            SP   3500.0       Adulto\n",
      "1   Kimberly     18            RJ   4500.0        Jovem\n",
      "2        Ana     19           NaN      NaN       Adulto\n",
      "3     Carlos     20      salvador   5000.0       Adulto\n",
      "4  Guilherme     18  porto alegre   4800.0        Jovem\n",
      "5       Caio     20            SP   3400.0       Adulto\n",
      "6      Lucas     15      salvador   1000.0        Jovem\n"
     ]
    }
   ],
   "source": [
    "# Remover duplicadas\n",
    "\n",
    "df = df.drop_duplicates(subset = [\"Nome\"])\n",
    "print(df)"
   ]
  }
 ],
 "metadata": {
  "kernelspec": {
   "display_name": "Python 3",
   "language": "python",
   "name": "python3"
  },
  "language_info": {
   "codemirror_mode": {
    "name": "ipython",
    "version": 3
   },
   "file_extension": ".py",
   "mimetype": "text/x-python",
   "name": "python",
   "nbconvert_exporter": "python",
   "pygments_lexer": "ipython3",
   "version": "3.12.1"
  }
 },
 "nbformat": 4,
 "nbformat_minor": 2
}

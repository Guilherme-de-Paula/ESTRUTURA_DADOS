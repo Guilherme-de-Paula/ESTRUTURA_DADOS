{
 "cells": [
  {
   "cell_type": "code",
   "execution_count": null,
   "metadata": {},
   "outputs": [],
   "source": [
    "import pandas as pd\n",
    "import numpy as np\n",
    "import re\n",
    "\n",
    "df = pd.read_excel(\"FORMULÁRIO GERAL DE RESULTADOS DAS CAMPANHAS DO LIMPA BRASIL.xlsx\")\n",
    "\n",
    "display(df)"
   ]
  },
  {
   "cell_type": "code",
   "execution_count": null,
   "metadata": {},
   "outputs": [],
   "source": [
    "#Nome\n",
    "\n",
    "df['Nome'] = df['Nome'].astype(str)\n",
    "df['Nome'] = df['Nome'].str.title()\n",
    "\n",
    "display(df)"
   ]
  },
  {
   "cell_type": "code",
   "execution_count": null,
   "metadata": {},
   "outputs": [],
   "source": [
    "df['Telefone/Celular'] = df['Telefone/Celular'].astype(str)\n",
    "df['Telefone/Celular'] = df['Telefone/Celular'].str.replace(\" \", \"\").str.replace(\"-\", \"\").str.replace(\"+55\",\"\")\n",
    "\n",
    "\n",
    "\n",
    "def marcar_telefone_curto(numero):\n",
    "    numero = str(numero)\n",
    "    if len(numero) < 11:\n",
    "        return numero + '*'\n",
    "    return numero\n",
    "\n",
    "df['Telefone/Celular'] = df['Telefone/Celular'].apply(marcar_telefone_curto)\n",
    "\n",
    "display(df.iloc[23:28])"
   ]
  },
  {
   "cell_type": "code",
   "execution_count": null,
   "metadata": {},
   "outputs": [],
   "source": [
    "#Organização\n",
    "\n",
    "df['Representa alguma Organização/ONG/Escola/Empresa etc? Se sim, descreva o nome'] = df['Representa alguma Organização/ONG/Escola/Empresa etc? Se sim, descreva o nome'].astype(str)\n",
    "df['Representa alguma Organização/ONG/Escola/Empresa etc? Se sim, descreva o nome'] = df['Representa alguma Organização/ONG/Escola/Empresa etc? Se sim, descreva o nome'].str.title()\n",
    "\n",
    "\n"
   ]
  },
  {
   "cell_type": "code",
   "execution_count": null,
   "metadata": {},
   "outputs": [],
   "source": [
    "#E-mail\n",
    "\n",
    "df['E-mail'] = df['E-mail'].astype(str)\n",
    "df['E-mail'] = df['E-mail'].str.lower()\n",
    "\n",
    "df.loc[df['E-mail'].str.len() < 8, 'E-mail'] = np.nan\n",
    "display(df.iloc[55:60])\n",
    "#display(df)"
   ]
  },
  {
   "cell_type": "code",
   "execution_count": null,
   "metadata": {},
   "outputs": [],
   "source": [
    "#CEP\n",
    "\n",
    "df['CEP'] = df['CEP'].astype(str)\n",
    "df['CEP'] = df['CEP'].str.lower()\n",
    "\n",
    "df.loc[df['CEP'].str.len() < 8, 'E-mail'] = np.nan\n",
    "df['CEP'] = df['CEP'].astype(str).str.zfill(8)\n",
    "df['CEP'] = df['CEP'].str[:5] + '-' + df['CEP'].str[5:]\n",
    "\n",
    "display(df.iloc[55:60])\n"
   ]
  },
  {
   "cell_type": "code",
   "execution_count": null,
   "metadata": {},
   "outputs": [],
   "source": [
    "# ESTADO\n",
    "\n",
    "df['Estado:'] = df['Estado:'].astype(str)\n",
    "df_sp = df[df['Estado:'].str.lower() == 'são paulo']\n",
    "display(df_sp)"
   ]
  },
  {
   "cell_type": "code",
   "execution_count": null,
   "metadata": {},
   "outputs": [],
   "source": [
    "# df['Ação realizada em'] = df['Ação realizada em'].astype('datetime64[M]')\n",
    "\n",
    "df['Ação realizada em'] = pd.to_datetime(df['Ação realizada em'], errors='coerce')  \n",
    "df['Ação realizada em'] = df['Ação realizada em'].dt.to_period('M')\n",
    "\n",
    "display(df)\n",
    "\n"
   ]
  },
  {
   "cell_type": "code",
   "execution_count": null,
   "metadata": {},
   "outputs": [],
   "source": [
    "df['Data'] = pd.to_datetime(df['Data'])\n"
   ]
  }
 ],
 "metadata": {
  "kernelspec": {
   "display_name": "Python 3",
   "language": "python",
   "name": "python3"
  },
  "language_info": {
   "codemirror_mode": {
    "name": "ipython",
    "version": 3
   },
   "file_extension": ".py",
   "mimetype": "text/x-python",
   "name": "python",
   "nbconvert_exporter": "python",
   "pygments_lexer": "ipython3",
   "version": "3.12.1"
  }
 },
 "nbformat": 4,
 "nbformat_minor": 2
}

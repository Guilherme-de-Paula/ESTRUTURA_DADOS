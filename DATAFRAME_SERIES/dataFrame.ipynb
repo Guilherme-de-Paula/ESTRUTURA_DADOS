{
 "cells": [
  {
   "cell_type": "code",
   "execution_count": 4,
   "metadata": {},
   "outputs": [
    {
     "name": "stdout",
     "output_type": "stream",
     "text": [
      "{'Nome': ['Aline', 'Beto', 'Carla', 'Daniel'], 'Idade': [25, 30, 45, 50], 'Naturalidade': ['SP', 'AM', 'RJ', 'SP']}\n"
     ]
    }
   ],
   "source": [
    "import pandas as pd\n",
    "\n",
    "dados = {\n",
    "    \"Nome\": [\"Aline\", \"Beto\", \"Carla\", \"Daniel\"],\n",
    "    \"Idade\": [25,30,45,50],\n",
    "    \"Naturalidade\": [\"SP\", \"AM\", \"RJ\", \"SP\"]\n",
    "}\n",
    "\n",
    "df = pd.DataFrame(dados)\n",
    "print(dados)"
   ]
  },
  {
   "cell_type": "code",
   "execution_count": 5,
   "metadata": {},
   "outputs": [
    {
     "name": "stdout",
     "output_type": "stream",
     "text": [
      "     Nome  Idade Naturalidade\n",
      "2   Carla     45           RJ\n",
      "3  Daniel     50           SP\n"
     ]
    }
   ],
   "source": [
    "print(df[df[\"Idade\"]>30])"
   ]
  },
  {
   "cell_type": "code",
   "execution_count": 6,
   "metadata": {},
   "outputs": [
    {
     "name": "stdout",
     "output_type": "stream",
     "text": [
      "0     Aline\n",
      "1      Beto\n",
      "2     Carla\n",
      "3    Daniel\n",
      "Name: Nome, dtype: object\n"
     ]
    }
   ],
   "source": [
    "print(df[\"Nome\"])"
   ]
  },
  {
   "cell_type": "code",
   "execution_count": 7,
   "metadata": {},
   "outputs": [
    {
     "name": "stdout",
     "output_type": "stream",
     "text": [
      "     Nome  Idade Naturalidade\n",
      "0   Aline     25           SP\n",
      "1    Beto     30           AM\n",
      "2   Carla     45           RJ\n",
      "3  Daniel     50           SP\n",
      "    Nome  Idade Naturalidade\n",
      "0  Aline     25           SP\n",
      "1   Beto     30           AM\n",
      "2  Carla     45           RJ\n"
     ]
    }
   ],
   "source": [
    "# Localizar index especifico\n",
    "print(df)\n",
    "print(df.loc[0:2])"
   ]
  },
  {
   "cell_type": "code",
   "execution_count": 8,
   "metadata": {},
   "outputs": [
    {
     "data": {
      "text/html": [
       "<div>\n",
       "<style scoped>\n",
       "    .dataframe tbody tr th:only-of-type {\n",
       "        vertical-align: middle;\n",
       "    }\n",
       "\n",
       "    .dataframe tbody tr th {\n",
       "        vertical-align: top;\n",
       "    }\n",
       "\n",
       "    .dataframe thead th {\n",
       "        text-align: right;\n",
       "    }\n",
       "</style>\n",
       "<table border=\"1\" class=\"dataframe\">\n",
       "  <thead>\n",
       "    <tr style=\"text-align: right;\">\n",
       "      <th></th>\n",
       "      <th>Nome</th>\n",
       "      <th>Idade</th>\n",
       "      <th>Naturalidade</th>\n",
       "    </tr>\n",
       "  </thead>\n",
       "  <tbody>\n",
       "    <tr>\n",
       "      <th>0</th>\n",
       "      <td>Aline</td>\n",
       "      <td>25</td>\n",
       "      <td>SP</td>\n",
       "    </tr>\n",
       "    <tr>\n",
       "      <th>1</th>\n",
       "      <td>Beto</td>\n",
       "      <td>30</td>\n",
       "      <td>AM</td>\n",
       "    </tr>\n",
       "    <tr>\n",
       "      <th>2</th>\n",
       "      <td>Carla</td>\n",
       "      <td>45</td>\n",
       "      <td>RJ</td>\n",
       "    </tr>\n",
       "    <tr>\n",
       "      <th>3</th>\n",
       "      <td>Daniel</td>\n",
       "      <td>50</td>\n",
       "      <td>SP</td>\n",
       "    </tr>\n",
       "  </tbody>\n",
       "</table>\n",
       "</div>"
      ],
      "text/plain": [
       "     Nome  Idade Naturalidade\n",
       "0   Aline     25           SP\n",
       "1    Beto     30           AM\n",
       "2   Carla     45           RJ\n",
       "3  Daniel     50           SP"
      ]
     },
     "execution_count": 8,
     "metadata": {},
     "output_type": "execute_result"
    }
   ],
   "source": [
    "# Ler os primeiros registros\n",
    "df.head()"
   ]
  },
  {
   "cell_type": "code",
   "execution_count": 9,
   "metadata": {},
   "outputs": [
    {
     "name": "stdout",
     "output_type": "stream",
     "text": [
      "    Nome  Idade Naturalidade\n",
      "0  Aline     25           SP\n"
     ]
    }
   ],
   "source": [
    "print(df[df[\"Nome\"]==\"Aline\"])\n",
    "      "
   ]
  }
 ],
 "metadata": {
  "kernelspec": {
   "display_name": "Python 3",
   "language": "python",
   "name": "python3"
  },
  "language_info": {
   "codemirror_mode": {
    "name": "ipython",
    "version": 3
   },
   "file_extension": ".py",
   "mimetype": "text/x-python",
   "name": "python",
   "nbconvert_exporter": "python",
   "pygments_lexer": "ipython3",
   "version": "3.12.1"
  }
 },
 "nbformat": 4,
 "nbformat_minor": 2
}

{
 "cells": [
  {
   "cell_type": "code",
   "execution_count": null,
   "metadata": {},
   "outputs": [],
   "source": [
    "import pandas as pd\n",
    "import matplotlib.pyplot as plt\n",
    "\n",
    "df = pd.read_excel(\"faltas_treinamento_sujo.xlsx\")"
   ]
  },
  {
   "cell_type": "code",
   "execution_count": null,
   "metadata": {},
   "outputs": [],
   "source": [
    "# Exercício 1 – Higienização Básica\n",
    "# a) Verifique valores nulos e tipos incorretos.\n",
    "# b) Corrija a coluna de datas inválidas.\n",
    "# c) Normalize os nomes dos turnos e dias da semana.\n",
    "\n",
    "# a)\n",
    "print(df.isnull().sum())\n",
    "\n",
    "# b)\n",
    "df['data'] = pd.to_datetime(df['data'])\n",
    "\n",
    "# c)\n",
    "df['turno'] = df['turno'].str.lower().str.strip()\n",
    "\n",
    "df['dia_semana'] = df['dia_semana'].str.lower().str.strip()\n",
    "\n",
    "print(df[['turno', 'dia_semana']].head())\n",
    "\n",
    "\n",
    "\n",
    "\n",
    "\n",
    "\n"
   ]
  },
  {
   "cell_type": "code",
   "execution_count": null,
   "metadata": {},
   "outputs": [],
   "source": [
    "Exercício 2 – Remoção e Substituição\n",
    "a) Remova os registros duplicados.\n",
    "b) Substitua os valores nulos da coluna Evadiu por “Desconhecido”.\n",
    "c) Substitua os valores nulos da coluna Data_Ultima_Falta pela data mais comum."
   ]
  },
  {
   "cell_type": "code",
   "execution_count": null,
   "metadata": {},
   "outputs": [],
   "source": [
    "# Exercício 3 – Correções e Detecção de Outliers\n",
    "# a) Converta a coluna Faltas para tipo inteiro.\n",
    "# b) Substitua outliers de faltas por np.nan e depois pela mediana.\n",
    "# c) Crie um flag “Faltas_Suspeitas” para valores > 10.\n",
    "\n"
   ]
  }
 ],
 "metadata": {
  "kernelspec": {
   "display_name": "Python 3",
   "language": "python",
   "name": "python3"
  },
  "language_info": {
   "codemirror_mode": {
    "name": "ipython",
    "version": 3
   },
   "file_extension": ".py",
   "mimetype": "text/x-python",
   "name": "python",
   "nbconvert_exporter": "python",
   "pygments_lexer": "ipython3",
   "version": "3.12.1"
  }
 },
 "nbformat": 4,
 "nbformat_minor": 2
}

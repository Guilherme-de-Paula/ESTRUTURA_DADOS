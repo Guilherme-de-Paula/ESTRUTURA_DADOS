{
 "cells": [
  {
   "cell_type": "code",
   "execution_count": 43,
   "metadata": {},
   "outputs": [],
   "source": [
    "import pandas as pd\n",
    "\n",
    "\n",
    "df = pd.read_excel(\"vendas.xlsx\")"
   ]
  },
  {
   "cell_type": "code",
   "execution_count": 44,
   "metadata": {},
   "outputs": [],
   "source": [
    "# 1.Padronizar a coluna 'categoria' para minúsculas.\n",
    "df[\"categoria\"] = df[\"categoria\"].str.lower()"
   ]
  },
  {
   "cell_type": "code",
   "execution_count": 45,
   "metadata": {},
   "outputs": [
    {
     "name": "stdout",
     "output_type": "stream",
     "text": [
      "      data   loja  categoria  produto  quantidade  valor_venda\n",
      "0    False  False      False    False       False        False\n",
      "1    False  False      False    False       False        False\n",
      "2    False  False      False    False       False        False\n",
      "3    False  False      False    False       False        False\n",
      "4    False  False      False    False        True         True\n",
      "..     ...    ...        ...      ...         ...          ...\n",
      "495  False  False      False    False       False        False\n",
      "496  False  False      False    False       False        False\n",
      "497  False  False      False    False       False        False\n",
      "498  False  False      False    False       False        False\n",
      "499  False  False      False    False       False        False\n",
      "\n",
      "[500 rows x 6 columns]\n",
      "          data         loja         categoria          produto  quantidade  \\\n",
      "0   2024-07-20  Vento Norte  eletrodomesticos        Aquecedor         5.0   \n",
      "1   2024-05-30  Vento Norte           sazonal     Guarda-chuva         6.0   \n",
      "2   2024-01-25  Vento Norte            roupas            Calça         8.0   \n",
      "3   2024-07-10  Chuva Clara            roupas           Casaco         5.0   \n",
      "5   2024-08-31    Porto Sol           sazonal    Manta térmica         2.0   \n",
      "..         ...          ...               ...              ...         ...   \n",
      "495 2024-08-23    Porto Sol  eletrodomesticos       Ventilador         4.0   \n",
      "496 2024-12-19  Vento Norte  eletrodomesticos       Ventilador         1.0   \n",
      "497 2024-05-12    Vila Neve          infantil   Blusa Infantil         6.0   \n",
      "498 2024-03-08    Vila Neve  eletrodomesticos  Ar-condicionado         1.0   \n",
      "499 2024-07-25  Vento Norte           sazonal     Guarda-chuva         3.0   \n",
      "\n",
      "     valor_venda  \n",
      "0         405.55  \n",
      "1        2866.20  \n",
      "2        3292.72  \n",
      "3        1294.95  \n",
      "5         957.96  \n",
      "..           ...  \n",
      "495      1545.72  \n",
      "496       230.89  \n",
      "497       441.30  \n",
      "498       293.93  \n",
      "499      1479.81  \n",
      "\n",
      "[407 rows x 6 columns]\n"
     ]
    }
   ],
   "source": [
    "# 2.Remover registros onde a quantidade está ausente\n",
    "print(df.isnull())  # Verificar se existem dados faltando\n",
    "df_nulos = df.dropna()\n",
    "print(df_nulos)"
   ]
  },
  {
   "cell_type": "code",
   "execution_count": 46,
   "metadata": {},
   "outputs": [],
   "source": [
    "# 3. Remover espaços extras e padronizar com primeira letra maiúscula (estilo título)\n",
    "df[\"loja\"] = df[\"loja\"].str.strip().str.title()\n",
    "\n",
    "df[\"categoria\"] = df[\"categoria\"].str.strip().str.title()\n",
    "\n",
    "df[\"produto\"] = df[\"produto\"].str.strip().str.title()"
   ]
  },
  {
   "cell_type": "code",
   "execution_count": 47,
   "metadata": {},
   "outputs": [],
   "source": [
    "# 4. Garantir que a coluna data seja datetime\n",
    "df[\"data\"] = pd.to_datetime(df[\"data\"])"
   ]
  },
  {
   "cell_type": "code",
   "execution_count": 48,
   "metadata": {},
   "outputs": [
    {
     "name": "stdout",
     "output_type": "stream",
     "text": [
      "0       81.11\n",
      "1      477.70\n",
      "2      411.59\n",
      "3      258.99\n",
      "4         NaN\n",
      "        ...  \n",
      "495    386.43\n",
      "496    230.89\n",
      "497     73.55\n",
      "498    293.93\n",
      "499    493.27\n",
      "Name: valor_unitario, Length: 500, dtype: float64\n"
     ]
    }
   ],
   "source": [
    "# 5. Calcular valor unitário real das vendas válidas\n",
    "df[\"valor_unitario\"] = df[\"valor_venda\"]/df[\"quantidade\"]\n",
    "print(df[\"valor_unitario\"])\n"
   ]
  },
  {
   "cell_type": "code",
   "execution_count": 49,
   "metadata": {},
   "outputs": [
    {
     "name": "stdout",
     "output_type": "stream",
     "text": [
      "produto\n",
      "Aquecedor          209.272667\n",
      "Ar-Condicionado    285.399667\n",
      "Blusa Infantil     290.070938\n",
      "Calça              266.699130\n",
      "Camiseta           253.658333\n",
      "Casaco             281.150000\n",
      "Guarda-Chuva       265.004286\n",
      "Lancheira          271.679000\n",
      "Manta Térmica      261.928182\n",
      "Mochila            303.505484\n",
      "Protetor Solar     299.157500\n",
      "Ventilador         287.489310\n",
      "Vestido            298.542174\n",
      "Name: valor_unitario, dtype: float64\n"
     ]
    }
   ],
   "source": [
    "# 6. Calcular valor médio unitário por produto (sem considerar nulos)\n",
    "media_unitaria = df.groupby(\"produto\")[\"valor_unitario\"].mean()\n",
    "print(media_unitaria)"
   ]
  },
  {
   "cell_type": "code",
   "execution_count": 50,
   "metadata": {},
   "outputs": [
    {
     "name": "stdout",
     "output_type": "stream",
     "text": [
      "1477.53\n"
     ]
    }
   ],
   "source": [
    "# 7. Agrupar e calcular média\n",
    "media_venda = df[\"valor_venda\"].mean()\n",
    "print(f\"{media_venda:.2f}\")"
   ]
  },
  {
   "cell_type": "code",
   "execution_count": 51,
   "metadata": {},
   "outputs": [
    {
     "name": "stdout",
     "output_type": "stream",
     "text": [
      "0       81.11\n",
      "1      477.70\n",
      "2      411.59\n",
      "3      258.99\n",
      "4        0.00\n",
      "        ...  \n",
      "495    386.43\n",
      "496    230.89\n",
      "497     73.55\n",
      "498    293.93\n",
      "499    493.27\n",
      "Name: valor_unitario, Length: 500, dtype: float64\n"
     ]
    },
    {
     "name": "stderr",
     "output_type": "stream",
     "text": [
      "C:\\Users\\50290149851\\AppData\\Local\\Temp\\ipykernel_1424\\3708606078.py:2: FutureWarning: A value is trying to be set on a copy of a DataFrame or Series through chained assignment using an inplace method.\n",
      "The behavior will change in pandas 3.0. This inplace method will never work because the intermediate object on which we are setting values always behaves as a copy.\n",
      "\n",
      "For example, when doing 'df[col].method(value, inplace=True)', try using 'df.method({col: value}, inplace=True)' or df[col] = df[col].method(value) instead, to perform the operation inplace on the original object.\n",
      "\n",
      "\n",
      "  df['valor_unitario'].fillna(0, inplace=True)\n"
     ]
    }
   ],
   "source": [
    "# 8. Preencher valor_unitario ausente\n",
    "df['valor_unitario'].fillna(0, inplace=True)\n",
    "print(df[\"valor_unitario\"])"
   ]
  },
  {
   "cell_type": "code",
   "execution_count": 52,
   "metadata": {},
   "outputs": [
    {
     "name": "stdout",
     "output_type": "stream",
     "text": [
      "0       405.55\n",
      "1      2866.20\n",
      "2      3292.72\n",
      "3      1294.95\n",
      "4          NaN\n",
      "        ...   \n",
      "495    1545.72\n",
      "496     230.89\n",
      "497     441.30\n",
      "498     293.93\n",
      "499    1479.81\n",
      "Name: valor_venda, Length: 500, dtype: float64\n"
     ]
    }
   ],
   "source": [
    "# 9. Recalcular valor_venda\n",
    "df[\"valor_venda\"] = df[\"quantidade\"] * df[\"valor_unitario\"]\n",
    "print(df[\"valor_venda\"])"
   ]
  },
  {
   "cell_type": "code",
   "execution_count": 62,
   "metadata": {},
   "outputs": [],
   "source": [
    "# 10. Salvar o novo DataFrame limpo em um novo arquivo Excel\n",
    "import matplotlib.pyplot as plt\n",
    "import seaborn as sn\n",
    "df.to_excel(\"vendas_atualizada.xlsx\", index=False)"
   ]
  },
  {
   "cell_type": "markdown",
   "metadata": {},
   "source": [
    "ANÁLISE"
   ]
  },
  {
   "cell_type": "code",
   "execution_count": 54,
   "metadata": {},
   "outputs": [
    {
     "name": "stdout",
     "output_type": "stream",
     "text": [
      "loja\n",
      "Chuva Clara    167110.14\n",
      "Porto Sol      148059.25\n",
      "Vento Norte    160780.08\n",
      "Vila Neve      144611.09\n",
      "Name: valor_venda, dtype: float64\n"
     ]
    }
   ],
   "source": [
    "# 1. Total de vendas por loja - Agrupar por loja e somar o valor total vendido\n",
    "total_vendas_por_loja = df.groupby('loja')['valor_venda'].sum()\n",
    "print(total_vendas_por_loja)"
   ]
  },
  {
   "cell_type": "code",
   "execution_count": 55,
   "metadata": {},
   "outputs": [
    {
     "name": "stdout",
     "output_type": "stream",
     "text": [
      "data_mês\n",
      "2024-01           inf\n",
      "2024-02           inf\n",
      "2024-03           inf\n",
      "2024-04           inf\n",
      "2024-05           inf\n",
      "2024-06           inf\n",
      "2024-07           inf\n",
      "2024-08           inf\n",
      "2024-09    274.761313\n",
      "2024-10           inf\n",
      "2024-11           inf\n",
      "2024-12           inf\n",
      "Freq: M, Name: variação, dtype: float64\n"
     ]
    },
    {
     "name": "stderr",
     "output_type": "stream",
     "text": [
      "C:\\Users\\50290149851\\AppData\\Local\\Temp\\ipykernel_1424\\2288816827.py:3: FutureWarning: The default fill_method='pad' in Series.pct_change is deprecated and will be removed in a future version. Either fill in any non-leading NA values prior to calling pct_change or specify 'fill_method=None' to not fill NA values.\n",
      "  df[\"variação\"] = df[\"valor_venda\"].pct_change()*100\n"
     ]
    }
   ],
   "source": [
    "# 2. Evolução mensal de vendas -  Identificar sazonalidades e picos mensais.\n",
    "df[\"data_mês\"] = df[\"data\"].dt.to_period(\"M\")\n",
    "df[\"variação\"] = df[\"valor_venda\"].pct_change()*100\n",
    "variacao_mensal = df.groupby(\"data_mês\")[\"variação\"].mean()\n",
    "print(variacao_mensal)"
   ]
  },
  {
   "cell_type": "code",
   "execution_count": 56,
   "metadata": {},
   "outputs": [
    {
     "name": "stdout",
     "output_type": "stream",
     "text": [
      "data_mês\n",
      "2024-01    60691.71\n",
      "2024-02    44847.58\n",
      "2024-03    66190.62\n",
      "2024-04    43056.45\n",
      "2024-05    48735.05\n",
      "2024-06    56312.80\n",
      "2024-07    52659.94\n",
      "2024-08    47412.70\n",
      "2024-09    57258.88\n",
      "2024-10    48616.57\n",
      "2024-11    53871.05\n",
      "2024-12    40907.21\n",
      "Freq: M, Name: valor_venda, dtype: float64\n"
     ]
    }
   ],
   "source": [
    "# 3. Agrupar por mês e somar vendas\n",
    "df[\"data_mês\"] = df[\"data\"].dt.to_period(\"M\")\n",
    "total_por_mes = df.groupby(\"data_mês\")[\"valor_venda\"].sum()\n",
    "print(total_por_mes)\n"
   ]
  },
  {
   "cell_type": "code",
   "execution_count": 57,
   "metadata": {},
   "outputs": [
    {
     "name": "stdout",
     "output_type": "stream",
     "text": [
      "produto\n",
      "Aquecedor          215.0\n",
      "Ar-Condicionado    153.0\n",
      "Blusa Infantil     181.0\n",
      "Calça              163.0\n",
      "Camiseta           130.0\n",
      "Casaco             156.0\n",
      "Guarda-Chuva       253.0\n",
      "Lancheira          191.0\n",
      "Manta Térmica      215.0\n",
      "Mochila            192.0\n",
      "Protetor Solar     260.0\n",
      "Ventilador         165.0\n",
      "Vestido            148.0\n",
      "Name: quantidade, dtype: float64\n"
     ]
    }
   ],
   "source": [
    "# 4. Produtos mais vendidos (por volume) Objetivo: saber o que mais sai no caixa.\n",
    "mais_vendidos = df.groupby(\"produto\")[\"quantidade\"].sum()\n",
    "print(mais_vendidos)\n",
    "\n"
   ]
  },
  {
   "cell_type": "code",
   "execution_count": 58,
   "metadata": {},
   "outputs": [
    {
     "name": "stdout",
     "output_type": "stream",
     "text": [
      "categoria\n",
      "Eletrodomesticos    125584.66\n",
      "Infantil            157641.01\n",
      "Roupas              161911.43\n",
      "Sazonal             175423.46\n",
      "Name: valor_venda, dtype: float64\n"
     ]
    }
   ],
   "source": [
    "# 5. Comparação entre categorias. Objetivo: analisar quais categorias são mais lucrativas.\n",
    "mais_vendas = df.groupby(\"categoria\")[\"valor_venda\"].sum()\n",
    "print(mais_vendas)"
   ]
  },
  {
   "cell_type": "code",
   "execution_count": 59,
   "metadata": {},
   "outputs": [
    {
     "name": "stdout",
     "output_type": "stream",
     "text": [
      "loja         categoria       \n",
      "Chuva Clara  Eletrodomesticos    122.0\n",
      "             Infantil            130.0\n",
      "             Roupas              214.0\n",
      "             Sazonal             198.0\n",
      "Porto Sol    Eletrodomesticos    118.0\n",
      "             Infantil            137.0\n",
      "             Roupas              137.0\n",
      "             Sazonal             197.0\n",
      "Vento Norte  Eletrodomesticos    157.0\n",
      "             Infantil            141.0\n",
      "             Roupas              179.0\n",
      "             Sazonal             160.0\n",
      "Vila Neve    Eletrodomesticos    149.0\n",
      "             Infantil            182.0\n",
      "             Roupas               92.0\n",
      "             Sazonal             182.0\n",
      "Name: quantidade, dtype: float64\n"
     ]
    }
   ],
   "source": [
    "# 6. Comparação entre lojas por categoria. Objetivo: avaliar se há especialização ou foco\n",
    "# diferente entre as lojas, com base nas categorias que mais vendem.\n",
    "lojas_mais_vendas = df.groupby([\"loja\",\"categoria\"])[\"quantidade\"].sum()\n",
    "print(lojas_mais_vendas)"
   ]
  },
  {
   "cell_type": "code",
   "execution_count": 63,
   "metadata": {},
   "outputs": [
    {
     "data": {
      "image/png": "[encoded data removed]",
      "text/plain": [
       "<Figure size 1000x500 with 1 Axes>"
      ]
     },
     "metadata": {},
     "output_type": "display_data"
    }
   ],
   "source": [
    "\n",
    "# 7. Plotar como gráfico de barras empilhadas\n",
    "plt.figure(figsize=(10,5))\n",
    "lojas_mais_vendas.plot(kind=\"bar\", color = \"blue\")\n",
    "plt.title(\"Produtos que as lojas mais vendem\")\n",
    "plt.xlabel(\"Loja\")\n",
    "plt.ylabel(\"Quantidade\")\n",
    "plt.xticks(rotation = 90)\n",
    "plt.grid(axis = \"y\")\n",
    "plt.show()"
   ]
  }
 ],
 "metadata": {
  "kernelspec": {
   "display_name": "Python 3",
   "language": "python",
   "name": "python3"
  },
  "language_info": {
   "codemirror_mode": {
    "name": "ipython",
    "version": 3
   },
   "file_extension": ".py",
   "mimetype": "text/x-python",
   "name": "python",
   "nbconvert_exporter": "python",
   "pygments_lexer": "ipython3",
   "version": "3.12.1"
  }
 },
 "nbformat": 4,
 "nbformat_minor": 2
}

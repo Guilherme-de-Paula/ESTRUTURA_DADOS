{
 "cells": [
  {
   "cell_type": "code",
   "execution_count": null,
   "metadata": {},
   "outputs": [],
   "source": [
    "# entender quais dados tem no arquivo.\n",
    "\n",
    "import pandas as pd\n",
    "\n",
    "# 1. Carregar os dados do arquivo\n",
    "\n",
    "df = pd.read_excel(\"dados_ausentes.xlsx\")\n",
    "print(df)"
   ]
  },
  {
   "cell_type": "code",
   "execution_count": 3,
   "metadata": {},
   "outputs": [
    {
     "name": "stdout",
     "output_type": "stream",
     "text": [
      "    Nome  Idade  Cidade  Salário\n",
      "0  False  False   False    False\n",
      "1  False   True   False    False\n",
      "2  False  False    True     True\n",
      "3  False  False   False    False\n",
      "4  False   True   False    False\n"
     ]
    }
   ],
   "source": [
    "# Verificar se existem dados faltando\n",
    "print(df.isnull())"
   ]
  },
  {
   "cell_type": "code",
   "execution_count": null,
   "metadata": {},
   "outputs": [],
   "source": [
    "# Contar os valores ausentes\n",
    "print(df.isnull().sum())"
   ]
  },
  {
   "cell_type": "code",
   "execution_count": 5,
   "metadata": {},
   "outputs": [
    {
     "name": "stdout",
     "output_type": "stream",
     "text": [
      "     Nome  Idade     Cidade  Salário\n",
      "0   Paula   19.0  São Paulo   3500.0\n",
      "3  Carlos   20.0   Salvador   5000.0\n"
     ]
    }
   ],
   "source": [
    "# Excluir as linhas com dados ausentes\n",
    "df_sem_nulos = df.dropna() # encontra valores com nan\n",
    "print(df_sem_nulos)"
   ]
  },
  {
   "cell_type": "code",
   "execution_count": null,
   "metadata": {},
   "outputs": [],
   "source": [
    "# Substituir dados ausentes \n",
    "# Cidades - Desconhecido\n",
    "\n",
    "df[\"Cidade\"].fillna(\"Desconhecido\", inplace = True)     # inplace já substitui dentro do DataFrame\n",
    "print(df)"
   ]
  },
  {
   "cell_type": "code",
   "execution_count": null,
   "metadata": {},
   "outputs": [],
   "source": [
    "# Substituir dados ausentes\n",
    "# Substituir \"Salário\" por 0\n",
    "\n",
    "df[\"Salário\"].fillna(0, inplace = True)\n",
    "print(df)"
   ]
  },
  {
   "cell_type": "code",
   "execution_count": null,
   "metadata": {},
   "outputs": [],
   "source": [
    "# Substituir dados ausentes\n",
    "# Substituir \"Idade\" pela média\n",
    "\n",
    "df[\"Idade\"].fillna(df[\"Idade\"].mean(), inplace = True)\n",
    "print(df)"
   ]
  }
 ],
 "metadata": {
  "kernelspec": {
   "display_name": "Python 3",
   "language": "python",
   "name": "python3"
  },
  "language_info": {
   "codemirror_mode": {
    "name": "ipython",
    "version": 3
   },
   "file_extension": ".py",
   "mimetype": "text/x-python",
   "name": "python",
   "nbconvert_exporter": "python",
   "pygments_lexer": "ipython3",
   "version": "3.12.1"
  }
 },
 "nbformat": 4,
 "nbformat_minor": 2
}

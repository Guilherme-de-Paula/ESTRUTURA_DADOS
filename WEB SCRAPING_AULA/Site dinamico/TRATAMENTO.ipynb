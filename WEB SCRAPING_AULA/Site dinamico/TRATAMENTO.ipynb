{
 "cells": [
  {
   "cell_type": "code",
   "execution_count": null,
   "metadata": {},
   "outputs": [],
   "source": [
    "import pandas as pd\n",
    "df = pd.read_excel(\"Cadeiras.xlsx\")\n",
    "print(df)"
   ]
  },
  {
   "cell_type": "code",
   "execution_count": null,
   "metadata": {},
   "outputs": [],
   "source": [
    "cores = [\n",
    "    \"preto\", \"preta\", \"branco\", \"branca\", \"vermelho\", \"vermelha\", \"azul\", \"cinza\", \"verde\", \"rosa\",\n",
    "    \"roxo\", \"roxa\",\n",
    "]\n",
    "\n",
    "def extrair_cor(texto):\n",
    "    texto = texto.lower()\n",
    "    for cor in cores:\n",
    "        if cor in texto:\n",
    "         return cor\n",
    "    return \"Desconhecida\"\n",
    "\n",
    "df[\"cor_principal\"] = df[\"marca\"].apply(extrair_cor)\n",
    "\n",
    "print(df[\"marca\", \"cor_principal\"])"
   ]
  },
  {
   "cell_type": "code",
   "execution_count": null,
   "metadata": {},
   "outputs": [],
   "source": [
    "df['preco'] = pd.to_numeric(df['preco'].astype(str).str.replace(',', '.'))"
   ]
  }
 ],
 "metadata": {
  "kernelspec": {
   "display_name": "Python 3",
   "language": "python",
   "name": "python3"
  },
  "language_info": {
   "codemirror_mode": {
    "name": "ipython",
    "version": 3
   },
   "file_extension": ".py",
   "mimetype": "text/x-python",
   "name": "python",
   "nbconvert_exporter": "python",
   "pygments_lexer": "ipython3",
   "version": "3.12.1"
  }
 },
 "nbformat": 4,
 "nbformat_minor": 2
}
